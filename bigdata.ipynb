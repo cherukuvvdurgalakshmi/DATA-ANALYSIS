{
  "cells": [
    {
      "cell_type": "markdown",
      "metadata": {
        "id": "view-in-github",
        "colab_type": "text"
      },
      "source": [
        "<a href=\"https://colab.research.google.com/github/cherukuvvdurgalakshmi/DATA-ANALYSIS/blob/main/bigdata.ipynb\" target=\"_parent\"><img src=\"https://colab.research.google.com/assets/colab-badge.svg\" alt=\"Open In Colab\"/></a>"
      ]
    },
    {
      "cell_type": "code",
      "execution_count": null,
      "metadata": {
        "colab": {
          "background_save": true,
          "base_uri": "https://localhost:8080/"
        },
        "id": "UZoJ8wkApQFU",
        "outputId": "e13a24f3-6de4-49bc-ff74-e30452fb5fe7"
      },
      "outputs": [
        {
          "name": "stdout",
          "output_type": "stream",
          "text": [
            "[10.99342831  9.7234714  11.29537708 13.04605971  9.53169325  9.53172609\n",
            " 13.15842563 11.53486946  9.06105123 11.08512009  9.07316461  9.06854049\n",
            " 10.48392454  6.17343951  6.55016433  8.87542494  7.97433776 10.62849467\n",
            "  8.18395185  7.1753926  12.93129754  9.5484474  10.13505641  7.15050363\n",
            "  8.91123455 10.22184518  7.69801285 10.75139604  8.79872262  9.4166125 ]\n",
            "t-statistic: -1.1450173670383255\n",
            "p-value: 0.2615641461880169\n",
            "Fail to reject the null hypothesis. There is not enough evidence to suggest that the sample mean differs significantly from the population mean.\n"
          ]
        }
      ],
      "source": [
        "import numpy as np\n",
        "from scipy import stats\n",
        "\n",
        "# Sample data (random numbers)\n",
        "np.random.seed(42)  # for reproducibility\n",
        "sample_data = np.random.normal(loc=10, scale=2, size=30)  # sample of 30 observations from a normal distribution with mean 10 and standard deviation 2\n",
        "\n",
        "# Population parameters\n",
        "population_mean = 10  # hypothesized population mean\n",
        "\n",
        "# Perform one-sample t-test\n",
        "t_statistic, p_value = stats.ttest_1samp(sample_data, population_mean)\n",
        "\n",
        "# Interpret the results\n",
        "alpha = 0.05  # significance level\n",
        "print(\"t-statistic:\", t_statistic)\n",
        "print(\"p-value:\", p_value)\n",
        "\n",
        "if p_value < alpha:\n",
        "    print(\"Reject the null hypothesis. There is enough evidence to suggest that the sample mean differs significantly from the population mean.\")\n",
        "else:\n",
        "    print(\"Fail to reject the null hypothesis. There is not enough evidence to suggest that the sample mean differs significantly from the population mean.\")"
      ]
    },
    {
      "cell_type": "code",
      "source": [
        "import numpy as np\n",
        "volume_data = np.random.rand(1000000)\n",
        "print(\"volume of data:\", len(volume_data))\n"
      ],
      "metadata": {
        "colab": {
          "base_uri": "https://localhost:8080/"
        },
        "id": "CksZcy35LVUF",
        "outputId": "90f7d0cb-5180-4586-9872-3375351bbf9e"
      },
      "execution_count": 13,
      "outputs": [
        {
          "output_type": "stream",
          "name": "stdout",
          "text": [
            "volume of data: 1000000\n"
          ]
        }
      ]
    },
    {
      "cell_type": "code",
      "source": [
        "import time\n",
        "for i in range(10):\n",
        "  velocity_data = np.random.rand()\n",
        "  print(\"velcity data print:\" , velocity_data)\n",
        "  time.sleep(2)"
      ],
      "metadata": {
        "colab": {
          "base_uri": "https://localhost:8080/"
        },
        "id": "Xy6WSkY9MIIE",
        "outputId": "1a415cc7-e9b4-4029-deed-af499f15fbf4"
      },
      "execution_count": 14,
      "outputs": [
        {
          "output_type": "stream",
          "name": "stdout",
          "text": [
            "velcity data print: 0.17956995778779572\n",
            "velcity data print: 0.8287327166125406\n",
            "velcity data print: 0.12395463168569587\n",
            "velcity data print: 0.13806718534734097\n",
            "velcity data print: 0.6235841668740782\n",
            "velcity data print: 0.9837818328582362\n",
            "velcity data print: 0.7101559234547999\n",
            "velcity data print: 0.3372184215285636\n",
            "velcity data print: 0.7204097829446564\n",
            "velcity data print: 0.699510184520311\n"
          ]
        }
      ]
    },
    {
      "cell_type": "code",
      "source": [
        "structured_data = {'id' : 1, 'name': 'john','age': 30}\n",
        "print(structured_data)\n",
        "semi_structured_data = {'person': {'name': 'alice', 'age' : 25, 'city': 'New york'}}\n",
        "UNStructured_data = \"This is a sample text document. It can contain any information in \""
      ],
      "metadata": {
        "colab": {
          "base_uri": "https://localhost:8080/"
        },
        "id": "qBXHxotPMyc0",
        "outputId": "83827054-b0d9-47cb-d41c-f27f92f030ca"
      },
      "execution_count": 15,
      "outputs": [
        {
          "output_type": "stream",
          "name": "stdout",
          "text": [
            "{'id': 1, 'name': 'john', 'age': 30}\n"
          ]
        }
      ]
    },
    {
      "cell_type": "code",
      "source": [
        "import random\n",
        "veracity_data = [random.choice([1, 2, 3, None]) for _ in range(20) ]\n",
        "\n",
        "print(\"veracity data:\", veracity_data)\n"
      ],
      "metadata": {
        "colab": {
          "base_uri": "https://localhost:8080/"
        },
        "id": "RnvFm2aTOilT",
        "outputId": "bcece112-fb10-44b0-f1a6-200162073752"
      },
      "execution_count": 21,
      "outputs": [
        {
          "output_type": "stream",
          "name": "stdout",
          "text": [
            "veracity data: [3, 2, 2, None, None, None, 2, 1, 3, 1, None, 1, 1, 2, 3, None, 2, 3, 1, 1]\n"
          ]
        }
      ]
    },
    {
      "cell_type": "code",
      "source": [],
      "metadata": {
        "id": "mwrpYFFXQGzG"
      },
      "execution_count": null,
      "outputs": []
    }
  ],
  "metadata": {
    "colab": {
      "provenance": [],
      "authorship_tag": "ABX9TyOhjaUBRFT8g1IftNUt+Ay6",
      "include_colab_link": true
    },
    "kernelspec": {
      "display_name": "Python 3",
      "name": "python3"
    },
    "language_info": {
      "name": "python"
    }
  },
  "nbformat": 4,
  "nbformat_minor": 0
}